{
 "cells": [
  {
   "cell_type": "code",
   "execution_count": 1,
   "id": "47cb6152",
   "metadata": {
    "scrolled": false
   },
   "outputs": [
    {
     "name": "stdout",
     "output_type": "stream",
     "text": [
      "Python              : 3.9.12 (main, Apr  4 2022, 05:22:27) [MSC v.1916 64 bit (AMD64)]\n",
      "                    :sys.version_info(major=3, minor=9, micro=12, releaselevel='final', serial=0)\n",
      "Selenium            : 4.3.0\n",
      "Splinter            : 0.18.1\n",
      "Webdriver Manager   : 3.8.3\n"
     ]
    }
   ],
   "source": [
    "import pandas as pd\n",
    "\n",
    "from bs4 import BeautifulSoup as soup\n",
    "\n",
    "# selenium 4\n",
    "import selenium\n",
    "from selenium import webdriver\n",
    "from selenium.webdriver.chrome.service import Service\n",
    "import webdriver_manager\n",
    "from webdriver_manager.chrome import ChromeDriverManager\n",
    "\n",
    "# driver=webdriver.Chrome (service=Service(ChromeDriverManager().install()))\n",
    "\n",
    "import splinter\n",
    "from splinter import Browser\n",
    "executable_path = {'executable_path': ChromeDriverManager().install()}\n",
    "browser = Browser('chrome', **executable_path, headless=False)\n",
    "\n",
    "import sys\n",
    "print(f\"{'Python':<20}: {sys.version}\")\n",
    "print(f\"{'':<20}:{sys.version_info}\")\n",
    "print(f\"{'Selenium':<20}: {selenium.__version__}\")\n",
    "print(f\"{'Splinter':<20}: {splinter.__version__}\")\n",
    "print(f\"{'Webdriver Manager':<20}: {webdriver_manager.__version__}\")"
   ]
  },
  {
   "cell_type": "code",
   "execution_count": null,
   "id": "ca718051",
   "metadata": {},
   "outputs": [],
   "source": []
  },
  {
   "cell_type": "code",
   "execution_count": null,
   "id": "1ca53f68",
   "metadata": {},
   "outputs": [],
   "source": []
  }
 ],
 "metadata": {
  "kernelspec": {
   "display_name": "Python 3 (ipykernel)",
   "language": "python",
   "name": "python3"
  },
  "language_info": {
   "codemirror_mode": {
    "name": "ipython",
    "version": 3
   },
   "file_extension": ".py",
   "mimetype": "text/x-python",
   "name": "python",
   "nbconvert_exporter": "python",
   "pygments_lexer": "ipython3",
   "version": "3.9.12"
  }
 },
 "nbformat": 4,
 "nbformat_minor": 5
}
